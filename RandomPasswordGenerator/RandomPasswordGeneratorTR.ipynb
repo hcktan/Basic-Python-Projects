{
  "metadata": {
    "kernelspec": {
      "name": "python",
      "display_name": "Python (Pyodide)",
      "language": "python"
    },
    "language_info": {
      "codemirror_mode": {
        "name": "python",
        "version": 3
      },
      "file_extension": ".py",
      "mimetype": "text/x-python",
      "name": "python",
      "nbconvert_exporter": "python",
      "pygments_lexer": "ipython3",
      "version": "3.8"
    }
  },
  "nbformat_minor": 5,
  "nbformat": 4,
  "cells": [
    {
      "id": "a3dd2a39-cf4a-4b42-b93c-15f66205b8c1",
      "cell_type": "markdown",
      "source": "### Başlangıç ve Açıklamalar",
      "metadata": {}
    },
    {
      "id": "f5238b74-9786-4b20-8b39-57e9779ea32f",
      "cell_type": "markdown",
      "source": "# **Rastgele Şifre Üretme**\nBu notebookta, Python'un `random` modülünü kullanarak güçlü ve rastgele bir şifre oluşturma kodu yazacağız. \n  \nŞifreyi oluştururken şu adımları takip edeceğiz:\n\n1. **Gerekli modülleri içe aktarma**\n2. **Küçük harfler, büyük harfler, rakamlar ve semboller içeren karakter havuzu oluşturma**\n3. **Her türden en az bir karakter içeren başlangıç şifresi oluşturma**\n4. **Geri kalan karakterleri rastgele doldurma**\n5. **Şifreyi karıştırma**\n6. **Son şifreyi ekrana yazdırma**",
      "metadata": {}
    },
    {
      "id": "ee2867f3-fe33-46f7-ba15-b629240c30b5",
      "cell_type": "markdown",
      "source": "### 1️⃣ **Modülü İçe Aktarma**",
      "metadata": {}
    },
    {
      "id": "0cb1b837-74d0-4409-9c9e-83c5d8971e83",
      "cell_type": "code",
      "source": "import random",
      "metadata": {
        "trusted": true
      },
      "outputs": [],
      "execution_count": 6
    },
    {
      "id": "ed980dde-dad7-4172-9c4b-97fd3392d2ec",
      "cell_type": "markdown",
      "source": "Bu satır, Python'un `random modülünü` içe aktarmamızı sağlar. random modülü, rastgele sayı üretmek, elemanları karıştırmak veya rastgele seçimler yapmak gibi işlemler için kullanılır.\n\n- random modülüyle yapabileceklerimiz:\n\n- `random.randint(a, b)`: a ile b arasında rastgele bir tamsayı döndürür.\n- `random.choice(seq)`: Bir liste veya string içinden rastgele bir eleman seçer.\n- `random.sample(seq, k)`: Bir listeden k kadar rastgele ve benzersiz eleman seçer.\n- `random.shuffle(seq)`: Bir listeyi karıştırır.\n\n\n  Biz bu kodda şifre oluşturmak için random.choice(), random.sample() ve random.shuffle() fonksiyonlarını kullanıyoruz.",
      "metadata": {}
    },
    {
      "id": "185f406a-3fae-4a6a-8cc0-78274f76c179",
      "cell_type": "markdown",
      "source": "### 2️⃣ **Karakter Havuzu Oluşturma**",
      "metadata": {}
    },
    {
      "id": "a8de0a92-4966-43d1-bbcc-526236977737",
      "cell_type": "markdown",
      "source": "Kodda farklı karakter türlerini içeren string değişkenler tanımlıyoruz:",
      "metadata": {}
    },
    {
      "id": "8da16760-b2b2-4223-96bf-ca9bce4f4fbe",
      "cell_type": "code",
      "source": "# Küçük harfler, büyük harfler, rakamlar ve semboller\nlower = 'abcdefghijklmnopqrstuvwxyz'\nupper = 'ABCDEFGHIJKLMNOPQRSTUVWXYZ'\nnumbers = '1234567890'\nsymbols = '!^&/()[]{}\\\\?.,:;'",
      "metadata": {
        "trusted": true
      },
      "outputs": [],
      "execution_count": 15
    },
    {
      "id": "e575bcd6-ac2a-40eb-9097-c8c7c81012ae",
      "cell_type": "markdown",
      "source": "Bu değişkenler, şifreyi oluştururken kullanılacak karakterleri içerir.\n",
      "metadata": {}
    },
    {
      "id": "f71a92db-e751-44db-ab79-ec4042b789ee",
      "cell_type": "markdown",
      "source": "| Değişken  | Açıklama                  |\n|-----------|---------------------------|\n| **lower**  | Küçük harfler (a-z)      |\n| **upper**  | Büyük harfler (A-Z)      |\n| **numbers** | Rakamlar (0-9)          |\n| **symbols** | Özel karakterler (!, ^, &, /, vb.) |\n",
      "metadata": {}
    },
    {
      "id": "0b594188-4094-4152-817b-defcce080414",
      "cell_type": "markdown",
      "source": "### 3️⃣ **Her Türden En Az Bir Karakter İçeren Şifre Başlangıcı**",
      "metadata": {}
    },
    {
      "id": "4e1d089d-fd15-46a0-9cfc-ab71c9012790",
      "cell_type": "code",
      "source": "password = [\n    random.choice(lower),   # Küçük harflerden rastgele 1 tane\n    random.choice(upper),   # Büyük harflerden rastgele 1 tane\n    random.choice(numbers), # Rakamlardan rastgele 1 tane\n    random.choice(symbols)  # Sembollerden rastgele 1 tane\n    ]",
      "metadata": {
        "trusted": true
      },
      "outputs": [],
      "execution_count": 9
    },
    {
      "id": "35f32c2f-dd48-46ce-ab97-11487e2b2c17",
      "cell_type": "markdown",
      "source": "### 4️⃣ **Geri Kalan Karakterleri Rastgele Doldurma**",
      "metadata": {}
    },
    {
      "id": "5bea5c0c-3173-4b9d-ab3f-7b983242dd68",
      "cell_type": "code",
      "source": "all_chars = lower + upper + numbers + symbols  # Tüm karakterleri içeren string\nlength = 12  # Şifrenin toplam uzunluğu\npassword += random.sample(all_chars, length - len(password))  # Eksik karakterleri ekleme",
      "metadata": {
        "trusted": true
      },
      "outputs": [],
      "execution_count": 10
    },
    {
      "id": "3b3cc1d8-2236-41ba-8918-29c86a7731c3",
      "cell_type": "markdown",
      "source": "- **all_chars = lower + upper + numbers + symbols**  \n  Tüm harfler, rakamlar ve sembolleri birleştirerek geniş bir karakter kümesi oluşturuyoruz.\n\n- **length = 12**  \n  Şifrenin uzunluğunu belirliyoruz (örneğin, 12 karakterlik bir şifre).\n\n- **random.sample(all_chars, length - len(password))**  \n  Önceden seçtiğimiz 4 karakteri çıkardığımızda `kalan length - len(password)` kadar karakteri rastgele seçiyoruz.\n",
      "metadata": {}
    },
    {
      "id": "d414557c-18e9-4e30-aedc-4e614384d79b",
      "cell_type": "markdown",
      "source": "### 5️⃣ **Şifreyi Karıştırma**;",
      "metadata": {}
    },
    {
      "id": "04810eeb-39a3-41cb-a54d-85b42b4122c6",
      "cell_type": "code",
      "source": "random.shuffle(password)",
      "metadata": {
        "trusted": true
      },
      "outputs": [],
      "execution_count": 12
    },
    {
      "id": "f7c746a8-ee8f-42c4-bbad-b92f6bf4e3be",
      "cell_type": "markdown",
      "source": "- Şifreyi oluşturan karakterleri rastgele sıralayarak daha güvenli hale getiriyoruz.\n- `random.shuffle()` fonksiyonu, password listesinin içindeki elemanları rastgele sıralar.\n- Karıştırarak şifreyi daha güvenli hale getiriyoruz.",
      "metadata": {}
    },
    {
      "id": "96982bab-ec34-435c-86ea-3943aa2a7d0c",
      "cell_type": "markdown",
      "source": "### 6️⃣ **Şifreyi Stringe Çevirme ve Yazdırma**",
      "metadata": {}
    },
    {
      "id": "a9ce2806-d685-4b89-8385-59fc40196382",
      "cell_type": "code",
      "source": "password = ''.join(password)\nprint('password:', password)",
      "metadata": {
        "trusted": true
      },
      "outputs": [
        {
          "name": "stdout",
          "output_type": "stream",
          "text": "password: 9mLK:yJFkH!c\n"
        }
      ],
      "execution_count": 13
    },
    {
      "id": "7eaf6020-e126-4e1a-918a-1a14cabbf8a7",
      "cell_type": "markdown",
      "source": "Son olarak, şifreyi string formatına çevirip ekrana yazdırıyoruz.",
      "metadata": {}
    },
    {
      "id": "70aebcc7-e34d-4ccd-b536-ea7053a49a36",
      "cell_type": "markdown",
      "source": "## Author",
      "metadata": {}
    },
    {
      "id": "03364894-7e07-4af0-9fdb-543051f24c01",
      "cell_type": "markdown",
      "source": "Hcktan",
      "metadata": {}
    }
  ]
}