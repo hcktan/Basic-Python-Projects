{
  "metadata": {
    "kernelspec": {
      "name": "python",
      "display_name": "Python (Pyodide)",
      "language": "python"
    },
    "language_info": {
      "codemirror_mode": {
        "name": "python",
        "version": 3
      },
      "file_extension": ".py",
      "mimetype": "text/x-python",
      "name": "python",
      "nbconvert_exporter": "python",
      "pygments_lexer": "ipython3",
      "version": "3.8"
    }
  },
  "nbformat_minor": 5,
  "nbformat": 4,
  "cells": [
    {
      "id": "a3dd2a39-cf4a-4b42-b93c-15f66205b8c1",
      "cell_type": "markdown",
      "source": "### Introduction and Explanations",
      "metadata": {}
    },
    {
      "id": "f5238b74-9786-4b20-8b39-57e9779ea32f",
      "cell_type": "markdown",
      "source": "# **Random Password Generation**\n  \nIn this notebook, we will write a code to generate a strong and random password using Python's random module.\n\nWe will follow these steps to generate the password:\n\n1. **Import necessary modules.**\n2. **Create a character pool containing lowercase letters, uppercase letters, numbers, and symbols.**\n3. **Create an initial password containing at least one character from each type.**\n4. **Fill the remaining characters randomly.**\n5. **Shuffle the password.**\n6. **Print the final password.**\n",
      "metadata": {}
    },
    {
      "id": "ee2867f3-fe33-46f7-ba15-b629240c30b5",
      "cell_type": "markdown",
      "source": "### 1️⃣ Importing the Module**",
      "metadata": {}
    },
    {
      "id": "0cb1b837-74d0-4409-9c9e-83c5d8971e83",
      "cell_type": "code",
      "source": "import random",
      "metadata": {
        "trusted": true
      },
      "outputs": [],
      "execution_count": 25
    },
    {
      "id": "ed980dde-dad7-4172-9c4b-97fd3392d2ec",
      "cell_type": "markdown",
      "source": "This line allows us to import Python's `random module`. The random module is used for generating random numbers, shuffling elements, or making random selections.\n\n- What we can do with the random module:\n\n- `random.randint(a, b)`: Returns a random integer between a and b.\n- `random.choice(seq)`: Selects a random element from a list or string.\n- `random.sample(seq, k)`: Selects k unique random elements from a list.\n- `random.shuffle(seq)`: Shuffles the list.\n\nIn this code, we use the functions `random.choice()`, `random.sample()`, and `random.shuffle()` to generate the password.\n\n ",
      "metadata": {}
    },
    {
      "id": "185f406a-3fae-4a6a-8cc0-78274f76c179",
      "cell_type": "markdown",
      "source": "### 2️⃣ **Character Pool Creation**",
      "metadata": {}
    },
    {
      "id": "a8de0a92-4966-43d1-bbcc-526236977737",
      "cell_type": "markdown",
      "source": "In the code, we define string variables containing different character types:",
      "metadata": {}
    },
    {
      "id": "8da16760-b2b2-4223-96bf-ca9bce4f4fbe",
      "cell_type": "code",
      "source": "# Lowercase letters, uppercase letters, numbers, and symbols\nlower = 'abcdefghijklmnopqrstuvwxyz'\nupper = 'ABCDEFGHIJKLMNOPQRSTUVWXYZ'\nnumbers = '1234567890'\nsymbols = '!^&()[]{}\\\\|?.,;:'",
      "metadata": {
        "trusted": true
      },
      "outputs": [],
      "execution_count": 26
    },
    {
      "id": "e575bcd6-ac2a-40eb-9097-c8c7c81012ae",
      "cell_type": "markdown",
      "source": "These variables contain the characters that will be used to generate the password.",
      "metadata": {}
    },
    {
      "id": "f71a92db-e751-44db-ab79-ec4042b789ee",
      "cell_type": "markdown",
      "source": "| **Variable**  | **Description** |\n|-------------|---------------|\n| `lower`  | Lowercase letters (a-z) |\n| `upper`  | Uppercase letters (A-Z) |\n| `numbers` | Digits (0-9) |\n| `symbols` | Special characters (!, ^, &, /, etc.) |",
      "metadata": {}
    },
    {
      "id": "0b594188-4094-4152-817b-defcce080414",
      "cell_type": "markdown",
      "source": "### 3️⃣ **Password Initialization with at Least One Character from Each Type**",
      "metadata": {}
    },
    {
      "id": "4e1d089d-fd15-46a0-9cfc-ab71c9012790",
      "cell_type": "code",
      "source": "password = [  \n    random.choice(lower),  # Select 1 random lowercase letter  \n    random.choice(upper),  # Select 1 random uppercase letter  \n    random.choice(numbers),  # Select 1 random digit  \n    random.choice(symbols)  # Select 1 random symbol  \n]  \n",
      "metadata": {
        "trusted": true
      },
      "outputs": [],
      "execution_count": 27
    },
    {
      "id": "35f32c2f-dd48-46ce-ab97-11487e2b2c17",
      "cell_type": "markdown",
      "source": "### 4️⃣ **Filling the Remaining Characters Randomly**",
      "metadata": {}
    },
    {
      "id": "5bea5c0c-3173-4b9d-ab3f-7b983242dd68",
      "cell_type": "code",
      "source": "all_chars = lower + upper + numbers + symbols  # String containing all characters  \nlength = 12  # Total password length  \npassword += random.sample(all_chars, length - len(password))  # Adding missing characters",
      "metadata": {
        "trusted": true
      },
      "outputs": [],
      "execution_count": 28
    },
    {
      "id": "3b3cc1d8-2236-41ba-8918-29c86a7731c3",
      "cell_type": "markdown",
      "source": "- **all_chars = lower + upper + numbers + symbols**  \n  We create a broad character set by combining all letters, numbers, and symbols.  \n\n- **length = 12**  \n  We define the length of the password (for example, a 12-character password).  \n\n- **random.sample(all_chars, length - len(password))**  \n  Since we already selected 4 characters, we randomly choose the remaining `length - len(password)` characters.  ",
      "metadata": {}
    },
    {
      "id": "d414557c-18e9-4e30-aedc-4e614384d79b",
      "cell_type": "markdown",
      "source": "### 5️⃣ **Shuffling the Password**;",
      "metadata": {}
    },
    {
      "id": "04810eeb-39a3-41cb-a54d-85b42b4122c6",
      "cell_type": "code",
      "source": "random.shuffle(password)",
      "metadata": {
        "trusted": true
      },
      "outputs": [],
      "execution_count": 29
    },
    {
      "id": "f7c746a8-ee8f-42c4-bbad-b92f6bf4e3be",
      "cell_type": "markdown",
      "source": "- The characters forming the password are randomly reordered to enhance security.  \n- The `random.shuffle()` function shuffles the elements in the password list.  \n- By shuffling, we make the password more secure.",
      "metadata": {}
    },
    {
      "id": "96982bab-ec34-435c-86ea-3943aa2a7d0c",
      "cell_type": "markdown",
      "source": "### 6️⃣ **Converting and Printing the Password**",
      "metadata": {}
    },
    {
      "id": "a9ce2806-d685-4b89-8385-59fc40196382",
      "cell_type": "code",
      "source": "password = ''.join(password)\nprint('password:', password)",
      "metadata": {
        "trusted": true
      },
      "outputs": [
        {
          "name": "stdout",
          "output_type": "stream",
          "text": "password: {OUt)D[}bm82\n"
        }
      ],
      "execution_count": 30
    },
    {
      "id": "7eaf6020-e126-4e1a-918a-1a14cabbf8a7",
      "cell_type": "markdown",
      "source": "- Finally, we convert the password into a string format and print it on the screen.",
      "metadata": {}
    },
    {
      "id": "70aebcc7-e34d-4ccd-b536-ea7053a49a36",
      "cell_type": "markdown",
      "source": "## Author",
      "metadata": {}
    },
    {
      "id": "03364894-7e07-4af0-9fdb-543051f24c01",
      "cell_type": "markdown",
      "source": "Hcktan",
      "metadata": {}
    }
  ]
}